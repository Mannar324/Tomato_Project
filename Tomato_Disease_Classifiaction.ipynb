{
  "metadata": {
    "colab": {
      "provenance": [],
      "gpuType": "T4"
    },
    "kernelspec": {
      "name": "python3",
      "display_name": "Python 3",
      "language": "python"
    },
    "language_info": {
      "name": "python",
      "version": "3.10.13",
      "mimetype": "text/x-python",
      "codemirror_mode": {
        "name": "ipython",
        "version": 3
      },
      "pygments_lexer": "ipython3",
      "nbconvert_exporter": "python",
      "file_extension": ".py"
    },
    "accelerator": "GPU",
    "kaggle": {
      "accelerator": "none",
      "dataSources": [
        {
          "sourceId": 1105687,
          "sourceType": "datasetVersion",
          "datasetId": 619181
        }
      ],
      "dockerImageVersionId": 30747,
      "isInternetEnabled": true,
      "language": "python",
      "sourceType": "notebook",
      "isGpuEnabled": false
    }
  },
  "nbformat_minor": 0,
  "nbformat": 4,
  "cells": [
    {
      "source": [
        "\n",
        "# IMPORTANT: RUN THIS CELL IN ORDER TO IMPORT YOUR KAGGLE DATA SOURCES\n",
        "# TO THE CORRECT LOCATION (/kaggle/input) IN YOUR NOTEBOOK,\n",
        "# THEN FEEL FREE TO DELETE THIS CELL.\n",
        "# NOTE: THIS NOTEBOOK ENVIRONMENT DIFFERS FROM KAGGLE'S PYTHON\n",
        "# ENVIRONMENT SO THERE MAY BE MISSING LIBRARIES USED BY YOUR\n",
        "# NOTEBOOK.\n",
        "\n",
        "import os\n",
        "import sys\n",
        "from tempfile import NamedTemporaryFile\n",
        "from urllib.request import urlopen\n",
        "from urllib.parse import unquote, urlparse\n",
        "from urllib.error import HTTPError\n",
        "from zipfile import ZipFile\n",
        "import tarfile\n",
        "import shutil\n",
        "\n",
        "CHUNK_SIZE = 40960\n",
        "DATA_SOURCE_MAPPING = 'tomatoleaf:https%3A%2F%2Fstorage.googleapis.com%2Fkaggle-data-sets%2F619181%2F1105687%2Fbundle%2Farchive.zip%3FX-Goog-Algorithm%3DGOOG4-RSA-SHA256%26X-Goog-Credential%3Dgcp-kaggle-com%2540kaggle-161607.iam.gserviceaccount.com%252F20240723%252Fauto%252Fstorage%252Fgoog4_request%26X-Goog-Date%3D20240723T073830Z%26X-Goog-Expires%3D259200%26X-Goog-SignedHeaders%3Dhost%26X-Goog-Signature%3D6c380219f6aae7ec9b5a7d6086e325cafdf4894e1c4e19ab0aadcdfe3077b433519647aede72da166558b0567d38e0f1cc46d41c40e05ea348103673df14a39ba58781654c2ebdccbb73080c2acc4d7322d4029f8813a488f6ec699a110c5f0cb9279d247e710ce24f35623fa37df935d2928cc4df56e8bb8c41b8ea0ee1978ec4b9e122c8a2645b66166a298855217d15764eac72f32b070a7bfadbbdae11507064988a8506913edd373d50e2559dc586d569a17a617a27e3654ed08689c8dafd2a678de2ce74741d39c97d3432633e71b745a124d77705357807efa2883af9b69ad2f04ac1dd56312a9d404891898cb01469e4d281a9b920423d1c6d2179e1'\n",
        "\n",
        "KAGGLE_INPUT_PATH='/kaggle/input'\n",
        "KAGGLE_WORKING_PATH='/kaggle/working'\n",
        "KAGGLE_SYMLINK='kaggle'\n",
        "\n",
        "!umount /kaggle/input/ 2> /dev/null\n",
        "shutil.rmtree('/kaggle/input', ignore_errors=True)\n",
        "os.makedirs(KAGGLE_INPUT_PATH, 0o777, exist_ok=True)\n",
        "os.makedirs(KAGGLE_WORKING_PATH, 0o777, exist_ok=True)\n",
        "\n",
        "try:\n",
        "  os.symlink(KAGGLE_INPUT_PATH, os.path.join(\"..\", 'input'), target_is_directory=True)\n",
        "except FileExistsError:\n",
        "  pass\n",
        "try:\n",
        "  os.symlink(KAGGLE_WORKING_PATH, os.path.join(\"..\", 'working'), target_is_directory=True)\n",
        "except FileExistsError:\n",
        "  pass\n",
        "\n",
        "for data_source_mapping in DATA_SOURCE_MAPPING.split(','):\n",
        "    directory, download_url_encoded = data_source_mapping.split(':')\n",
        "    download_url = unquote(download_url_encoded)\n",
        "    filename = urlparse(download_url).path\n",
        "    destination_path = os.path.join(KAGGLE_INPUT_PATH, directory)\n",
        "    try:\n",
        "        with urlopen(download_url) as fileres, NamedTemporaryFile() as tfile:\n",
        "            total_length = fileres.headers['content-length']\n",
        "            print(f'Downloading {directory}, {total_length} bytes compressed')\n",
        "            dl = 0\n",
        "            data = fileres.read(CHUNK_SIZE)\n",
        "            while len(data) > 0:\n",
        "                dl += len(data)\n",
        "                tfile.write(data)\n",
        "                done = int(50 * dl / int(total_length))\n",
        "                sys.stdout.write(f\"\\r[{'=' * done}{' ' * (50-done)}] {dl} bytes downloaded\")\n",
        "                sys.stdout.flush()\n",
        "                data = fileres.read(CHUNK_SIZE)\n",
        "            if filename.endswith('.zip'):\n",
        "              with ZipFile(tfile) as zfile:\n",
        "                zfile.extractall(destination_path)\n",
        "            else:\n",
        "              with tarfile.open(tfile.name) as tarfile:\n",
        "                tarfile.extractall(destination_path)\n",
        "            print(f'\\nDownloaded and uncompressed: {directory}')\n",
        "    except HTTPError as e:\n",
        "        print(f'Failed to load (likely expired) {download_url} to path {destination_path}')\n",
        "        continue\n",
        "    except OSError as e:\n",
        "        print(f'Failed to load {download_url} to path {destination_path}')\n",
        "        continue\n",
        "\n",
        "print('Data source import complete.')\n"
      ],
      "metadata": {
        "colab": {
          "base_uri": "https://localhost:8080/"
        },
        "id": "4v8aBro4hxPG",
        "outputId": "4e7ed8ce-7429-471e-fd86-c7b16f029eac"
      },
      "cell_type": "code",
      "outputs": [
        {
          "output_type": "stream",
          "name": "stdout",
          "text": [
            "Downloading tomatoleaf, 187559775 bytes compressed\n",
            "[==================================================] 187559775 bytes downloaded\n",
            "Downloaded and uncompressed: tomatoleaf\n",
            "Data source import complete.\n"
          ]
        }
      ],
      "execution_count": 1
    },
    {
      "cell_type": "markdown",
      "source": [
        "## Import Libraries"
      ],
      "metadata": {
        "id": "aD8NuBMrt3vz"
      }
    },
    {
      "cell_type": "code",
      "source": [
        "import tensorflow as tf\n",
        "from tensorflow.keras import models, layers,callbacks\n",
        "import matplotlib.pyplot as plt\n",
        "import keras\n",
        "import seaborn as sns\n",
        "from keras.applications import EfficientNetB3\n",
        "import numpy as np\n",
        "from sklearn.metrics import confusion_matrix\n",
        "import zipfile\n",
        "import os\n"
      ],
      "metadata": {
        "id": "wLYLzgTotnqS",
        "execution": {
          "iopub.status.busy": "2024-07-19T18:24:57.424521Z",
          "iopub.execute_input": "2024-07-19T18:24:57.425265Z",
          "iopub.status.idle": "2024-07-19T18:25:10.345936Z",
          "shell.execute_reply.started": "2024-07-19T18:24:57.425231Z",
          "shell.execute_reply": "2024-07-19T18:25:10.344956Z"
        },
        "trusted": true
      },
      "execution_count": 2,
      "outputs": []
    },
    {
      "cell_type": "code",
      "source": [
        "!pip show tensorflow\n"
      ],
      "metadata": {
        "execution": {
          "iopub.status.busy": "2024-07-19T18:25:14.000318Z",
          "iopub.execute_input": "2024-07-19T18:25:14.000814Z",
          "iopub.status.idle": "2024-07-19T18:25:26.662412Z",
          "shell.execute_reply.started": "2024-07-19T18:25:14.000781Z",
          "shell.execute_reply": "2024-07-19T18:25:26.661329Z"
        },
        "trusted": true,
        "id": "tIqf6kmMhxPM",
        "outputId": "a0a6d5a7-2795-4321-a9d3-f904a7c8daee",
        "colab": {
          "base_uri": "https://localhost:8080/"
        }
      },
      "execution_count": 3,
      "outputs": [
        {
          "output_type": "stream",
          "name": "stdout",
          "text": [
            "Name: tensorflow\n",
            "Version: 2.15.0\n",
            "Summary: TensorFlow is an open source machine learning framework for everyone.\n",
            "Home-page: https://www.tensorflow.org/\n",
            "Author: Google Inc.\n",
            "Author-email: packages@tensorflow.org\n",
            "License: Apache 2.0\n",
            "Location: /usr/local/lib/python3.10/dist-packages\n",
            "Requires: absl-py, astunparse, flatbuffers, gast, google-pasta, grpcio, h5py, keras, libclang, ml-dtypes, numpy, opt-einsum, packaging, protobuf, setuptools, six, tensorboard, tensorflow-estimator, tensorflow-io-gcs-filesystem, termcolor, typing-extensions, wrapt\n",
            "Required-by: dopamine_rl, tf_keras\n"
          ]
        }
      ]
    },
    {
      "cell_type": "code",
      "source": [
        "from google.colab import drive\n",
        "drive.mount('/content/drive')"
      ],
      "metadata": {
        "colab": {
          "base_uri": "https://localhost:8080/"
        },
        "id": "z4G-JubymPx2",
        "outputId": "ca21d01e-22d3-4b9d-e597-c45790fd8009"
      },
      "execution_count": 4,
      "outputs": [
        {
          "output_type": "stream",
          "name": "stdout",
          "text": [
            "Drive already mounted at /content/drive; to attempt to forcibly remount, call drive.mount(\"/content/drive\", force_remount=True).\n"
          ]
        }
      ]
    },
    {
      "cell_type": "code",
      "source": [
        "%cd drive/MyDrive/Lung_Classification/"
      ],
      "metadata": {
        "colab": {
          "base_uri": "https://localhost:8080/"
        },
        "id": "MTx4XIifmbuk",
        "outputId": "12ceddea-2bf6-4feb-8c9a-437cc4e7837c"
      },
      "execution_count": 5,
      "outputs": [
        {
          "output_type": "stream",
          "name": "stdout",
          "text": [
            "/content/drive/MyDrive/Lung_Classification\n"
          ]
        }
      ]
    },
    {
      "cell_type": "markdown",
      "source": [
        "## Set Constants"
      ],
      "metadata": {
        "id": "IJ3Wb290vbo_"
      }
    },
    {
      "cell_type": "code",
      "source": [
        "IMG_SIZE=130\n",
        "BATCH_SIZE=32\n",
        "CHANNELS=3\n",
        "EPOCHS=20\n",
        "INPUT_SHAPE = (BATCH_SIZE, IMG_SIZE, IMG_SIZE, CHANNELS)\n",
        "N_CLASSES = 10"
      ],
      "metadata": {
        "id": "1TuYBT2xvdyQ",
        "execution": {
          "iopub.status.busy": "2024-07-19T18:25:42.043669Z",
          "iopub.execute_input": "2024-07-19T18:25:42.044523Z",
          "iopub.status.idle": "2024-07-19T18:25:42.049394Z",
          "shell.execute_reply.started": "2024-07-19T18:25:42.044488Z",
          "shell.execute_reply": "2024-07-19T18:25:42.04854Z"
        },
        "trusted": true
      },
      "execution_count": 6,
      "outputs": []
    },
    {
      "cell_type": "markdown",
      "source": [
        "## Import data into tensorflow dataset object"
      ],
      "metadata": {
        "id": "pfZMtOrivRT3"
      }
    },
    {
      "cell_type": "code",
      "source": [
        "training= tf.keras.preprocessing.image_dataset_from_directory(\n",
        "    \"/kaggle/input/tomatoleaf/tomato/train\",\n",
        "    seed=123,\n",
        "    shuffle=True,\n",
        "    image_size=(IMG_SIZE,IMG_SIZE),\n",
        "    batch_size=BATCH_SIZE,\n",
        "\n",
        ")\n",
        "validation= tf.keras.preprocessing.image_dataset_from_directory(\n",
        "    \"/kaggle/input/tomatoleaf/tomato/val\",\n",
        "    seed=123,\n",
        "    shuffle=False,\n",
        "    image_size=(IMG_SIZE,IMG_SIZE),\n",
        "    batch_size=BATCH_SIZE\n",
        ")"
      ],
      "metadata": {
        "id": "ti80HTfvvYvr",
        "outputId": "dc306831-fb9b-43e8-ff3f-bb9efce260f9",
        "execution": {
          "iopub.status.busy": "2024-07-19T18:25:47.516659Z",
          "iopub.execute_input": "2024-07-19T18:25:47.517267Z",
          "iopub.status.idle": "2024-07-19T18:25:54.736834Z",
          "shell.execute_reply.started": "2024-07-19T18:25:47.517237Z",
          "shell.execute_reply": "2024-07-19T18:25:54.735905Z"
        },
        "trusted": true,
        "colab": {
          "base_uri": "https://localhost:8080/"
        }
      },
      "execution_count": 7,
      "outputs": [
        {
          "output_type": "stream",
          "name": "stdout",
          "text": [
            "Found 10000 files belonging to 10 classes.\n",
            "Found 1000 files belonging to 10 classes.\n"
          ]
        }
      ]
    },
    {
      "cell_type": "code",
      "source": [
        "classes_name=training.class_names\n",
        "classes_name"
      ],
      "metadata": {
        "id": "wWDnhwlLvY0N",
        "outputId": "e9440222-c953-4fa9-ab06-3d5a004ab4d7",
        "execution": {
          "iopub.status.busy": "2024-07-19T18:25:54.738269Z",
          "iopub.execute_input": "2024-07-19T18:25:54.738556Z",
          "iopub.status.idle": "2024-07-19T18:25:54.745598Z",
          "shell.execute_reply.started": "2024-07-19T18:25:54.738531Z",
          "shell.execute_reply": "2024-07-19T18:25:54.744616Z"
        },
        "trusted": true,
        "colab": {
          "base_uri": "https://localhost:8080/"
        }
      },
      "execution_count": 8,
      "outputs": [
        {
          "output_type": "execute_result",
          "data": {
            "text/plain": [
              "['Tomato___Bacterial_spot',\n",
              " 'Tomato___Early_blight',\n",
              " 'Tomato___Late_blight',\n",
              " 'Tomato___Leaf_Mold',\n",
              " 'Tomato___Septoria_leaf_spot',\n",
              " 'Tomato___Spider_mites Two-spotted_spider_mite',\n",
              " 'Tomato___Target_Spot',\n",
              " 'Tomato___Tomato_Yellow_Leaf_Curl_Virus',\n",
              " 'Tomato___Tomato_mosaic_virus',\n",
              " 'Tomato___healthy']"
            ]
          },
          "metadata": {},
          "execution_count": 8
        }
      ]
    },
    {
      "cell_type": "code",
      "source": [
        "for batch_img,batch_label in training.take(1):\n",
        "    print(batch_img.shape)\n",
        "    print(batch_label.numpy())"
      ],
      "metadata": {
        "id": "6SpQ3pA_wYGq",
        "execution": {
          "iopub.status.busy": "2024-07-19T08:57:05.312256Z",
          "iopub.execute_input": "2024-07-19T08:57:05.312739Z",
          "iopub.status.idle": "2024-07-19T08:57:05.43023Z",
          "shell.execute_reply.started": "2024-07-19T08:57:05.31271Z",
          "shell.execute_reply": "2024-07-19T08:57:05.429264Z"
        },
        "trusted": true
      },
      "execution_count": null,
      "outputs": []
    },
    {
      "cell_type": "markdown",
      "source": [
        "## Show some samples of images!"
      ],
      "metadata": {
        "id": "ITBfDlZ9yq63"
      }
    },
    {
      "cell_type": "code",
      "source": [
        "plt.figure(figsize=(20, 20))\n",
        "plt.suptitle('Samples of Tomato Plant!')\n",
        "for batch_img,batch_label in training.take(1):\n",
        "   for i in range(20):\n",
        "      ax=plt.subplot(5,4,i+1)\n",
        "      plt.title(classes_name[batch_label[i]])\n",
        "      plt.imshow(batch_img[i].numpy().astype('uint8'))\n",
        "      plt.axis('off')"
      ],
      "metadata": {
        "id": "KwfbqZGewYIS",
        "execution": {
          "iopub.status.busy": "2024-07-19T08:57:10.346393Z",
          "iopub.execute_input": "2024-07-19T08:57:10.346782Z",
          "iopub.status.idle": "2024-07-19T08:57:13.061679Z",
          "shell.execute_reply.started": "2024-07-19T08:57:10.346754Z",
          "shell.execute_reply": "2024-07-19T08:57:13.060703Z"
        },
        "trusted": true
      },
      "execution_count": null,
      "outputs": []
    },
    {
      "cell_type": "code",
      "source": [
        "def split_train_val_test(dataset,train_split=0.8,test_split=0.1,val_split=0.1,shuffle=True,shuffle_size=10000):\n",
        "   assert(train_split+val_split+test_split)==1\n",
        "\n",
        "\n",
        "   if shuffle:\n",
        "        dataset = dataset.shuffle(shuffle_size, seed=12)\n",
        "    #set size of train,test and val\n",
        "   train_size=int(train_split*len(dataset))\n",
        "   val_size=int(val_split*len(dataset))\n",
        "   test_size=int(test_split*len(dataset))\n",
        "\n",
        "\n",
        "   train_ds=dataset.take(train_size)\n",
        "   val_ds=dataset.skip(train_size).take(val_size)\n",
        "   test_ds=dataset.skip(train_size+val_size).take(test_size)\n",
        "\n",
        "\n",
        "   return train_ds,val_ds,test_ds\n",
        "\n"
      ],
      "metadata": {
        "id": "Gz0WaLqmwYL7",
        "execution": {
          "iopub.status.busy": "2024-07-19T18:25:56.050686Z",
          "iopub.execute_input": "2024-07-19T18:25:56.051327Z",
          "iopub.status.idle": "2024-07-19T18:25:56.058169Z",
          "shell.execute_reply.started": "2024-07-19T18:25:56.051296Z",
          "shell.execute_reply": "2024-07-19T18:25:56.057283Z"
        },
        "trusted": true
      },
      "execution_count": 9,
      "outputs": []
    },
    {
      "cell_type": "code",
      "source": [
        "train,val,test=split_train_val_test(training)"
      ],
      "metadata": {
        "id": "ZfoTiMBUz_Vh",
        "execution": {
          "iopub.status.busy": "2024-07-19T18:25:56.812864Z",
          "iopub.execute_input": "2024-07-19T18:25:56.813174Z",
          "iopub.status.idle": "2024-07-19T18:25:56.831498Z",
          "shell.execute_reply.started": "2024-07-19T18:25:56.813142Z",
          "shell.execute_reply": "2024-07-19T18:25:56.830596Z"
        },
        "trusted": true
      },
      "execution_count": 10,
      "outputs": []
    },
    {
      "cell_type": "code",
      "source": [
        "print(len(train))\n",
        "print(len(test))\n",
        "print(len(val))"
      ],
      "metadata": {
        "id": "tEuwa8zf1QVW",
        "outputId": "09a9274f-86a7-41e2-80fa-fe7e5034e35c",
        "execution": {
          "iopub.status.busy": "2024-07-19T18:25:58.262287Z",
          "iopub.execute_input": "2024-07-19T18:25:58.262906Z",
          "iopub.status.idle": "2024-07-19T18:25:58.269175Z",
          "shell.execute_reply.started": "2024-07-19T18:25:58.262872Z",
          "shell.execute_reply": "2024-07-19T18:25:58.26812Z"
        },
        "trusted": true,
        "colab": {
          "base_uri": "https://localhost:8080/"
        }
      },
      "execution_count": 11,
      "outputs": [
        {
          "output_type": "stream",
          "name": "stdout",
          "text": [
            "250\n",
            "31\n",
            "31\n"
          ]
        }
      ]
    },
    {
      "cell_type": "markdown",
      "source": [
        "## Cache, Shuffle, and Prefetch the Dataset"
      ],
      "metadata": {
        "id": "8gn8qjYz10Qn"
      }
    },
    {
      "cell_type": "code",
      "source": [
        "train_ds = train.cache().shuffle(1000).prefetch(buffer_size=tf.data.AUTOTUNE)\n",
        "val_ds = val.cache().shuffle(1000).prefetch(buffer_size=tf.data.AUTOTUNE)\n",
        "test_ds = test.cache().shuffle(1000).prefetch(buffer_size=tf.data.AUTOTUNE)"
      ],
      "metadata": {
        "id": "E5NTNb9q1WuH",
        "execution": {
          "iopub.status.busy": "2024-07-19T18:26:03.469434Z",
          "iopub.execute_input": "2024-07-19T18:26:03.470249Z",
          "iopub.status.idle": "2024-07-19T18:26:03.491422Z",
          "shell.execute_reply.started": "2024-07-19T18:26:03.470216Z",
          "shell.execute_reply": "2024-07-19T18:26:03.490671Z"
        },
        "trusted": true
      },
      "execution_count": 12,
      "outputs": []
    },
    {
      "cell_type": "markdown",
      "source": [
        "## Creating a Layer for Resizing and Normalization"
      ],
      "metadata": {
        "id": "2WWWkJuT3fld"
      }
    },
    {
      "cell_type": "code",
      "source": [
        "resize_scaling=tf.keras.Sequential([\n",
        "    layers.Resizing(IMG_SIZE,IMG_SIZE),\n",
        "    layers.Rescaling(1./255)\n",
        "])"
      ],
      "metadata": {
        "id": "RxB_WgBC1qPZ",
        "execution": {
          "iopub.status.busy": "2024-07-19T08:57:47.160584Z",
          "iopub.execute_input": "2024-07-19T08:57:47.160946Z",
          "iopub.status.idle": "2024-07-19T08:57:47.171561Z",
          "shell.execute_reply.started": "2024-07-19T08:57:47.160918Z",
          "shell.execute_reply": "2024-07-19T08:57:47.170556Z"
        },
        "trusted": true
      },
      "execution_count": 13,
      "outputs": []
    },
    {
      "cell_type": "markdown",
      "source": [
        "## Build The Model"
      ],
      "metadata": {
        "id": "JUYUAfDh4jWG"
      }
    },
    {
      "cell_type": "markdown",
      "source": [
        "#### EfficientNetB3"
      ],
      "metadata": {
        "id": "d2dG0WLVhxPP"
      }
    },
    {
      "cell_type": "code",
      "source": [
        "base_model = EfficientNetB3(weights='imagenet',pooling='max',include_top=False, input_shape=(IMG_SIZE, IMG_SIZE, 3))"
      ],
      "metadata": {
        "id": "Blqj614g0dP3",
        "execution": {
          "iopub.status.busy": "2024-07-19T18:26:26.369229Z",
          "iopub.execute_input": "2024-07-19T18:26:26.369853Z",
          "iopub.status.idle": "2024-07-19T18:26:29.491005Z",
          "shell.execute_reply.started": "2024-07-19T18:26:26.36982Z",
          "shell.execute_reply": "2024-07-19T18:26:29.490136Z"
        },
        "trusted": true
      },
      "execution_count": 24,
      "outputs": []
    },
    {
      "cell_type": "code",
      "source": [
        "model=tf.keras.models.Sequential([\n",
        "    base_model,\n",
        "    layers.BatchNormalization(),\n",
        "    layers.Flatten(),\n",
        "    layers.Dense(128,activation='relu'),\n",
        "    layers.Dense(N_CLASSES,activation='softmax')\n",
        "\n",
        "])\n"
      ],
      "metadata": {
        "id": "ECy081g606aN",
        "execution": {
          "iopub.status.busy": "2024-07-19T18:28:29.472965Z",
          "iopub.execute_input": "2024-07-19T18:28:29.473606Z",
          "iopub.status.idle": "2024-07-19T18:28:29.483534Z",
          "shell.execute_reply.started": "2024-07-19T18:28:29.473573Z",
          "shell.execute_reply": "2024-07-19T18:28:29.482546Z"
        },
        "trusted": true
      },
      "execution_count": 25,
      "outputs": []
    },
    {
      "cell_type": "code",
      "source": [
        "model.build(input_shape=INPUT_SHAPE)"
      ],
      "metadata": {
        "id": "UmVrk6LK1erG",
        "execution": {
          "iopub.status.busy": "2024-07-19T18:28:58.104418Z",
          "iopub.execute_input": "2024-07-19T18:28:58.105189Z",
          "iopub.status.idle": "2024-07-19T18:28:58.215018Z",
          "shell.execute_reply.started": "2024-07-19T18:28:58.105142Z",
          "shell.execute_reply": "2024-07-19T18:28:58.214323Z"
        },
        "trusted": true
      },
      "execution_count": 26,
      "outputs": []
    },
    {
      "cell_type": "code",
      "source": [
        "model.summary()"
      ],
      "metadata": {
        "id": "6raBGSCu1m8f",
        "outputId": "7ecde63b-9f82-43db-9cd0-e4bfe95c73ef",
        "execution": {
          "iopub.status.busy": "2024-07-19T18:29:06.387861Z",
          "iopub.execute_input": "2024-07-19T18:29:06.388792Z",
          "iopub.status.idle": "2024-07-19T18:29:06.433667Z",
          "shell.execute_reply.started": "2024-07-19T18:29:06.388732Z",
          "shell.execute_reply": "2024-07-19T18:29:06.432787Z"
        },
        "trusted": true,
        "colab": {
          "base_uri": "https://localhost:8080/"
        }
      },
      "execution_count": 27,
      "outputs": [
        {
          "output_type": "stream",
          "name": "stdout",
          "text": [
            "Model: \"sequential_3\"\n",
            "_________________________________________________________________\n",
            " Layer (type)                Output Shape              Param #   \n",
            "=================================================================\n",
            " efficientnetb3 (Functional  (None, 1536)              10783535  \n",
            " )                                                               \n",
            "                                                                 \n",
            " batch_normalization_1 (Bat  (None, 1536)              6144      \n",
            " chNormalization)                                                \n",
            "                                                                 \n",
            " flatten_2 (Flatten)         (None, 1536)              0         \n",
            "                                                                 \n",
            " dense_4 (Dense)             (None, 128)               196736    \n",
            "                                                                 \n",
            " dense_5 (Dense)             (None, 10)                1290      \n",
            "                                                                 \n",
            "=================================================================\n",
            "Total params: 10987705 (41.91 MB)\n",
            "Trainable params: 10897330 (41.57 MB)\n",
            "Non-trainable params: 90375 (353.03 KB)\n",
            "_________________________________________________________________\n"
          ]
        }
      ]
    },
    {
      "cell_type": "code",
      "source": [
        "model.compile(optimizer='adam',loss='sparse_categorical_crossentropy',metrics=['accuracy'])"
      ],
      "metadata": {
        "id": "PXSyoHTN1p9L",
        "execution": {
          "iopub.status.busy": "2024-07-19T18:29:17.79165Z",
          "iopub.execute_input": "2024-07-19T18:29:17.792017Z",
          "iopub.status.idle": "2024-07-19T18:29:17.801322Z",
          "shell.execute_reply.started": "2024-07-19T18:29:17.791991Z",
          "shell.execute_reply": "2024-07-19T18:29:17.800619Z"
        },
        "trusted": true
      },
      "execution_count": 28,
      "outputs": []
    },
    {
      "cell_type": "code",
      "source": [
        "erl=callbacks.EarlyStopping(monitor='val_loss',patience=5,mode='min')\n",
        "save_ck=callbacks.ModelCheckpoint('.tomato_wt.hdf5',monitor='val_loss',save_best_only=True,mode='min')"
      ],
      "metadata": {
        "id": "VZAkFZZbjRcZ"
      },
      "execution_count": 29,
      "outputs": []
    },
    {
      "cell_type": "code",
      "source": [
        "history=model.fit(train_ds,validation_data=val_ds,epochs=EPOCHS,batch_size=BATCH_SIZE,verbose=1,\n",
        "               callbacks=[save_ck])"
      ],
      "metadata": {
        "id": "gmpbUzwG13OG",
        "outputId": "d32cf80b-4cf5-47e2-c7b8-c9f101ce6f96",
        "execution": {
          "iopub.status.busy": "2024-07-19T18:29:26.435822Z",
          "iopub.execute_input": "2024-07-19T18:29:26.436207Z",
          "iopub.status.idle": "2024-07-19T18:43:42.316884Z",
          "shell.execute_reply.started": "2024-07-19T18:29:26.436177Z",
          "shell.execute_reply": "2024-07-19T18:43:42.316024Z"
        },
        "trusted": true,
        "colab": {
          "base_uri": "https://localhost:8080/"
        }
      },
      "execution_count": 30,
      "outputs": [
        {
          "output_type": "stream",
          "name": "stdout",
          "text": [
            "Epoch 1/20\n",
            "250/250 [==============================] - 121s 247ms/step - loss: 0.6226 - accuracy: 0.8170 - val_loss: 0.6733 - val_accuracy: 0.9073\n",
            "Epoch 2/20\n",
            "250/250 [==============================] - 54s 216ms/step - loss: 0.3053 - accuracy: 0.9243 - val_loss: 26.1938 - val_accuracy: 0.4435\n",
            "Epoch 3/20\n",
            "250/250 [==============================] - 62s 248ms/step - loss: 0.3016 - accuracy: 0.9190 - val_loss: 0.5286 - val_accuracy: 0.9435\n",
            "Epoch 4/20\n",
            "250/250 [==============================] - 60s 240ms/step - loss: 0.0936 - accuracy: 0.9714 - val_loss: 0.0544 - val_accuracy: 0.9778\n",
            "Epoch 5/20\n",
            "250/250 [==============================] - 54s 217ms/step - loss: 0.0546 - accuracy: 0.9836 - val_loss: 0.1918 - val_accuracy: 0.9536\n",
            "Epoch 6/20\n",
            "250/250 [==============================] - 54s 216ms/step - loss: 0.1399 - accuracy: 0.9604 - val_loss: 0.3242 - val_accuracy: 0.9234\n",
            "Epoch 7/20\n",
            "250/250 [==============================] - 55s 221ms/step - loss: 0.1186 - accuracy: 0.9688 - val_loss: 0.3467 - val_accuracy: 0.9274\n",
            "Epoch 8/20\n",
            "250/250 [==============================] - 54s 216ms/step - loss: 0.1126 - accuracy: 0.9688 - val_loss: 0.2445 - val_accuracy: 0.9466\n",
            "Epoch 9/20\n",
            "250/250 [==============================] - 54s 216ms/step - loss: 0.0840 - accuracy: 0.9777 - val_loss: 0.2173 - val_accuracy: 0.9546\n",
            "Epoch 10/20\n",
            "250/250 [==============================] - 60s 240ms/step - loss: 0.0608 - accuracy: 0.9821 - val_loss: 0.0222 - val_accuracy: 0.9950\n",
            "Epoch 11/20\n",
            "250/250 [==============================] - 54s 218ms/step - loss: 0.0222 - accuracy: 0.9929 - val_loss: 0.1497 - val_accuracy: 0.9637\n",
            "Epoch 12/20\n",
            "250/250 [==============================] - 54s 217ms/step - loss: 0.0525 - accuracy: 0.9848 - val_loss: 0.2075 - val_accuracy: 0.9607\n",
            "Epoch 13/20\n",
            "250/250 [==============================] - 55s 221ms/step - loss: 0.0882 - accuracy: 0.9786 - val_loss: 0.2979 - val_accuracy: 0.9345\n",
            "Epoch 14/20\n",
            "250/250 [==============================] - 54s 216ms/step - loss: 0.0570 - accuracy: 0.9821 - val_loss: 0.0392 - val_accuracy: 0.9859\n",
            "Epoch 15/20\n",
            "250/250 [==============================] - 55s 218ms/step - loss: 0.0495 - accuracy: 0.9855 - val_loss: 0.0445 - val_accuracy: 0.9879\n",
            "Epoch 16/20\n",
            "250/250 [==============================] - 54s 217ms/step - loss: 0.0198 - accuracy: 0.9956 - val_loss: 0.0687 - val_accuracy: 0.9748\n",
            "Epoch 17/20\n",
            "250/250 [==============================] - 54s 217ms/step - loss: 0.0180 - accuracy: 0.9945 - val_loss: 0.0395 - val_accuracy: 0.9909\n",
            "Epoch 18/20\n",
            "250/250 [==============================] - 54s 216ms/step - loss: 0.0412 - accuracy: 0.9873 - val_loss: 0.3460 - val_accuracy: 0.9325\n",
            "Epoch 19/20\n",
            "250/250 [==============================] - 55s 218ms/step - loss: 0.0881 - accuracy: 0.9763 - val_loss: 1.0707 - val_accuracy: 0.8629\n",
            "Epoch 20/20\n",
            "250/250 [==============================] - 54s 216ms/step - loss: 0.0802 - accuracy: 0.9796 - val_loss: 0.1149 - val_accuracy: 0.9758\n"
          ]
        }
      ]
    },
    {
      "cell_type": "code",
      "source": [],
      "metadata": {
        "id": "EpTJWGwAkgL6"
      },
      "execution_count": null,
      "outputs": []
    },
    {
      "cell_type": "markdown",
      "source": [
        "## Show The Model performance!"
      ],
      "metadata": {
        "id": "TW8lJ7-4Oig5"
      }
    },
    {
      "cell_type": "code",
      "source": [
        "# Define needed variables\n",
        "tr_acc = history.history['accuracy']\n",
        "tr_loss = history.history['loss']\n",
        "val_acc = history.history['val_accuracy']\n",
        "val_loss = history.history['val_loss']\n",
        "index_loss = np.argmin(val_loss)\n",
        "val_lowest = val_loss[index_loss]\n",
        "index_acc = np.argmax(val_acc)\n",
        "acc_highest = val_acc[index_acc]\n",
        "\n",
        "Epochs = [i+1 for i in range(len(tr_acc))]\n",
        "loss_label = f'best epoch= {str(index_loss + 1)}'\n",
        "acc_label = f'best epoch= {str(index_acc + 1)}'\n",
        "\n",
        "# Plot training history\n",
        "plt.figure(figsize= (20, 8))\n",
        "plt.style.use('fivethirtyeight')\n",
        "\n",
        "plt.subplot(1, 2, 1)\n",
        "plt.plot(Epochs, tr_loss, 'pink', label= 'Training loss')\n",
        "plt.plot(Epochs, val_loss, 'green', label= 'Validation loss')\n",
        "plt.scatter(index_loss + 1, val_lowest, s= 150, c= 'blue', label= loss_label)\n",
        "plt.title('Training and Validation Loss')\n",
        "plt.xlabel('Epochs')\n",
        "plt.ylabel('Loss')\n",
        "plt.legend()\n",
        "\n",
        "plt.subplot(1, 2, 2)\n",
        "plt.plot(Epochs, tr_acc, 'pink', label= 'Training Accuracy')\n",
        "plt.plot(Epochs, val_acc, 'green', label= 'Validation Accuracy')\n",
        "plt.scatter(index_acc + 1 , acc_highest, s= 150, c= 'blue', label= acc_label)\n",
        "plt.title('Training and Validation Accuracy')\n",
        "plt.xlabel('Epochs')\n",
        "plt.ylabel('Accuracy')\n",
        "plt.legend()\n",
        "\n",
        "plt.tight_layout\n",
        "plt.show()"
      ],
      "metadata": {
        "id": "qRuWZOj37WWn",
        "outputId": "53c4ab51-a1b0-49d7-f6ab-f927ae41268b",
        "execution": {
          "iopub.status.busy": "2024-07-19T18:45:26.651986Z",
          "iopub.execute_input": "2024-07-19T18:45:26.652466Z",
          "iopub.status.idle": "2024-07-19T18:45:27.300517Z",
          "shell.execute_reply.started": "2024-07-19T18:45:26.652431Z",
          "shell.execute_reply": "2024-07-19T18:45:27.299602Z"
        },
        "trusted": true,
        "colab": {
          "base_uri": "https://localhost:8080/",
          "height": 395
        }
      },
      "execution_count": 31,
      "outputs": [
        {
          "output_type": "display_data",
          "data": {
            "text/plain": [
              "<Figure size 2000x800 with 2 Axes>"
            ],
            "image/png": "[encoded data removed]"
          },
          "metadata": {}
        }
      ]
    },
    {
      "cell_type": "markdown",
      "source": [
        "## Evaluate The Model"
      ],
      "metadata": {
        "id": "y8GQzA2lGm99"
      }
    },
    {
      "cell_type": "code",
      "source": [
        "train_score = model.evaluate(train_ds, verbose= 1)\n",
        "valid_score = model.evaluate(val_ds, verbose= 1)\n",
        "test_score = model.evaluate(test_ds, verbose= 1)\n",
        "\n",
        "print(\"Train Loss: \", train_score[0])\n",
        "print(\"Train Accuracy: \", train_score[1])\n",
        "print('-' * 20)\n",
        "print(\"Validation Loss: \", valid_score[0])\n",
        "print(\"Validation Accuracy: \", valid_score[1])\n",
        "print('-' * 20)\n",
        "print(\"Test Loss: \", test_score[0])\n",
        "print(\"Test Accuracy: \", test_score[1])\n"
      ],
      "metadata": {
        "id": "VjVx4t7bGpi0",
        "outputId": "6af07b3a-7e7c-4bef-d1f5-013e3676d4ea",
        "execution": {
          "iopub.status.busy": "2024-07-19T18:45:34.630978Z",
          "iopub.execute_input": "2024-07-19T18:45:34.63162Z",
          "iopub.status.idle": "2024-07-19T18:45:52.07808Z",
          "shell.execute_reply.started": "2024-07-19T18:45:34.631587Z",
          "shell.execute_reply": "2024-07-19T18:45:52.077174Z"
        },
        "trusted": true,
        "colab": {
          "base_uri": "https://localhost:8080/"
        }
      },
      "execution_count": 32,
      "outputs": [
        {
          "output_type": "stream",
          "name": "stdout",
          "text": [
            "250/250 [==============================] - 14s 56ms/step - loss: 0.1171 - accuracy: 0.9788\n",
            "31/31 [==============================] - 2s 54ms/step - loss: 0.1149 - accuracy: 0.9758\n",
            "31/31 [==============================] - 9s 53ms/step - loss: 0.1449 - accuracy: 0.9738\n",
            "Train Loss:  0.11706149578094482\n",
            "Train Accuracy:  0.9788326621055603\n",
            "--------------------\n",
            "Validation Loss:  0.11490467935800552\n",
            "Validation Accuracy:  0.975806474685669\n",
            "--------------------\n",
            "Test Loss:  0.1449301689863205\n",
            "Test Accuracy:  0.9737903475761414\n"
          ]
        }
      ]
    },
    {
      "cell_type": "markdown",
      "source": [
        "## Get The Predictions!"
      ],
      "metadata": {
        "id": "kxdpvyE0VHOy"
      }
    },
    {
      "cell_type": "code",
      "source": [
        "def get_predicitions():\n",
        "    all_true_labels = []\n",
        "    all_predicted_labels = []\n",
        "    all_images=[]\n",
        "    classes_name=training.class_names\n",
        "\n",
        "    #get all the predictions and true labels\n",
        "    for image_batch, label_batch in test_ds:\n",
        "            # Make predictions on the batch\n",
        "            predictions = model.predict(image_batch)\n",
        "\n",
        "            # Convert predictions to class indices\n",
        "            predicted_labels = np.argmax(predictions, axis=1)\n",
        "\n",
        "            #append matrix of images\n",
        "            all_images.extend(image_batch)\n",
        "\n",
        "            # Convert true labels to numpy array\n",
        "            true_labels = label_batch\n",
        "\n",
        "            all_true_labels.extend(true_labels)\n",
        "            all_predicted_labels.extend(predicted_labels)\n",
        "\n",
        "\n",
        "\n",
        "    #plot the predictions\n",
        "    index=0\n",
        "    plt.figure(figsize=(25, 25))\n",
        "    plt.suptitle('Prediction of Tomato Disease!')\n",
        "\n",
        "    for i in range(30,61):\n",
        "        if index<15:\n",
        "            ax=plt.subplot(5,3,index+1)\n",
        "            color = 'green' if all_true_labels[i] == all_predicted_labels[i] else 'red'\n",
        "            plt.title(f'true_class:{classes_name[all_true_labels[i]]}\\npredicted_class{classes_name[all_predicted_labels[i]]}',color=color)\n",
        "            plt.imshow(np.array(all_images[i]).astype('uint8'))\n",
        "            plt.axis('off')\n",
        "            index+=1\n",
        "        else:\n",
        "            index=0\n"
      ],
      "metadata": {
        "id": "dD46FWz6VQKg",
        "execution": {
          "iopub.status.busy": "2024-07-19T09:40:06.305269Z",
          "iopub.execute_input": "2024-07-19T09:40:06.305675Z",
          "iopub.status.idle": "2024-07-19T09:40:06.31516Z",
          "shell.execute_reply.started": "2024-07-19T09:40:06.305643Z",
          "shell.execute_reply": "2024-07-19T09:40:06.314213Z"
        },
        "trusted": true
      },
      "execution_count": null,
      "outputs": []
    },
    {
      "cell_type": "code",
      "source": [
        "get_predicitions()"
      ],
      "metadata": {
        "id": "rMdiuMfbJy9K",
        "execution": {
          "iopub.status.busy": "2024-07-19T09:40:06.987988Z",
          "iopub.execute_input": "2024-07-19T09:40:06.98837Z",
          "iopub.status.idle": "2024-07-19T09:40:13.708578Z",
          "shell.execute_reply.started": "2024-07-19T09:40:06.988338Z",
          "shell.execute_reply": "2024-07-19T09:40:13.706175Z"
        },
        "trusted": true
      },
      "execution_count": null,
      "outputs": []
    },
    {
      "cell_type": "markdown",
      "source": [
        "## Show Confusion Matrix!\n"
      ],
      "metadata": {
        "id": "POTwqSnchxPR"
      }
    },
    {
      "cell_type": "code",
      "source": [
        "def display_conf_matrix():\n",
        "    all_true_labels=[]\n",
        "    all_predicted_labels=[]\n",
        "    for image_batch, label_batch in test_ds:\n",
        "        # Make predictions on the batch\n",
        "        predictions = model.predict(image_batch)\n",
        "\n",
        "        # Convert predictions to class indices\n",
        "        predicted_labels = np.argmax(predictions, axis=1)\n",
        "\n",
        "        # Convert true labels to numpy array\n",
        "        true_labels = label_batch.numpy()\n",
        "\n",
        "        all_true_labels.extend(true_labels)\n",
        "        all_predicted_labels.extend(predicted_labels)\n",
        "\n",
        "    # Convert lists to numpy arrays\n",
        "    all_true_labels = np.array(all_true_labels)\n",
        "    all_predicted_labels = np.array(all_predicted_labels)\n",
        "    conf_matrix = confusion_matrix(all_true_labels, all_predicted_labels)\n",
        "\n",
        "        # Plot confusion matrix\n",
        "    plt.figure(figsize=(10, 8))\n",
        "    sns.heatmap(conf_matrix, annot=True, fmt='d', cmap='Blues', xticklabels=training.class_names, yticklabels=training.class_names)\n",
        "    plt.xlabel('Predicted Label')\n",
        "    plt.ylabel('True Label')\n",
        "    plt.title('Confusion Matrix')\n",
        "    plt.show()"
      ],
      "metadata": {
        "id": "z6MKBuMEY3WX",
        "execution": {
          "iopub.status.busy": "2024-07-19T09:37:05.525213Z",
          "iopub.execute_input": "2024-07-19T09:37:05.525536Z",
          "iopub.status.idle": "2024-07-19T09:37:05.533597Z",
          "shell.execute_reply.started": "2024-07-19T09:37:05.525509Z",
          "shell.execute_reply": "2024-07-19T09:37:05.53255Z"
        },
        "trusted": true
      },
      "execution_count": null,
      "outputs": []
    },
    {
      "cell_type": "code",
      "source": [
        "display_conf_matrix()"
      ],
      "metadata": {
        "id": "nbn0BqgHJqt7",
        "execution": {
          "iopub.status.busy": "2024-07-19T09:37:05.534883Z",
          "iopub.execute_input": "2024-07-19T09:37:05.535204Z",
          "iopub.status.idle": "2024-07-19T09:37:08.690662Z",
          "shell.execute_reply.started": "2024-07-19T09:37:05.535177Z",
          "shell.execute_reply": "2024-07-19T09:37:08.689659Z"
        },
        "trusted": true
      },
      "execution_count": null,
      "outputs": []
    },
    {
      "cell_type": "code",
      "source": [
        "model_save_path = '/kaggle/working/classifier.h5'\n",
        "model.(model_save_path)"
      ],
      "metadata": {
        "execution": {
          "iopub.status.busy": "2024-07-19T19:03:49.117232Z",
          "iopub.execute_input": "2024-07-19T19:03:49.117916Z",
          "iopub.status.idle": "2024-07-19T19:03:50.233871Z",
          "shell.execute_reply.started": "2024-07-19T19:03:49.117884Z",
          "shell.execute_reply": "2024-07-19T19:03:50.233012Z"
        },
        "trusted": true,
        "id": "NlSRR05rhxPR"
      },
      "execution_count": null,
      "outputs": []
    },
    {
      "cell_type": "code",
      "source": [
        "import shutil\n",
        "\n",
        "model.export('saved_model')\n",
        "# Specify the folder you want to compress\n",
        "folder_path = '/kaggle/working/saved_model/tomato_model'\n",
        "\n",
        "# Specify the name of the output ZIP file\n",
        "zip_file_path = '/kaggle/working/tomato_model.zip'\n",
        "\n",
        "# Compress the folder into a ZIP file\n",
        "shutil.make_archive(base_name='/kaggle/working/tomato_model', format='zip', root_dir=folder_path)\n"
      ],
      "metadata": {
        "execution": {
          "iopub.status.busy": "2024-07-20T10:38:24.85204Z",
          "iopub.execute_input": "2024-07-20T10:38:24.85244Z",
          "iopub.status.idle": "2024-07-20T10:38:25.21181Z",
          "shell.execute_reply.started": "2024-07-20T10:38:24.852395Z",
          "shell.execute_reply": "2024-07-20T10:38:25.210465Z"
        },
        "trusted": true,
        "id": "wydiX6WbhxPR",
        "outputId": "382b3c46-36d6-474c-f859-326c2f692c71"
      },
      "execution_count": null,
      "outputs": [
        {
          "traceback": [
            "\u001b[0;31m---------------------------------------------------------------------------\u001b[0m",
            "\u001b[0;31mNameError\u001b[0m                                 Traceback (most recent call last)",
            "Cell \u001b[0;32mIn[2], line 3\u001b[0m\n\u001b[1;32m      1\u001b[0m \u001b[38;5;28;01mimport\u001b[39;00m \u001b[38;5;21;01mshutil\u001b[39;00m\n\u001b[0;32m----> 3\u001b[0m \u001b[43mmodel\u001b[49m\u001b[38;5;241m.\u001b[39mexport(\u001b[38;5;124m'\u001b[39m\u001b[38;5;124msaved_model\u001b[39m\u001b[38;5;124m'\u001b[39m)\n\u001b[1;32m      4\u001b[0m \u001b[38;5;66;03m# Specify the folder you want to compress\u001b[39;00m\n\u001b[1;32m      5\u001b[0m folder_path \u001b[38;5;241m=\u001b[39m \u001b[38;5;124m'\u001b[39m\u001b[38;5;124m/kaggle/working/saved_model/tomato_model\u001b[39m\u001b[38;5;124m'\u001b[39m\n",
            "\u001b[0;31mNameError\u001b[0m: name 'model' is not defined"
          ],
          "ename": "NameError",
          "evalue": "name 'model' is not defined",
          "output_type": "error"
        }
      ]
    },
    {
      "cell_type": "code",
      "source": [],
      "metadata": {
        "id": "AW8Sin1EhxPW"
      },
      "execution_count": null,
      "outputs": []
    }
  ]
}